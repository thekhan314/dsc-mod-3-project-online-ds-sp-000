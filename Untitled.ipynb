{
 "cells": [
  {
   "cell_type": "markdown",
   "metadata": {},
   "source": [
    "# Introduction"
   ]
  },
  {
   "cell_type": "markdown",
   "metadata": {},
   "source": [
    "1. Monte Carlo\n",
    "2. t-test\n",
    "2. Tukey\n",
    "3. Pipeline\n",
    "4. Hypothesis\n",
    "    1. DO bigger customers get a higher discount?\n",
    "    2. "
   ]
  },
  {
   "cell_type": "markdown",
   "metadata": {},
   "source": [
    "# Load and Explore data"
   ]
  },
  {
   "cell_type": "markdown",
   "metadata": {},
   "source": [
    "## Import Libraries"
   ]
  },
  {
   "cell_type": "code",
   "execution_count": 1,
   "metadata": {},
   "outputs": [],
   "source": [
    "import numpy as np\n",
    "import pandas as pd\n",
    "import scipy.stats as stats\n",
    "import matplotlib.pyplot as plt\n",
    "import sqlite3\n",
    "from statsmodels.stats.multicomp import MultiComparison as mc\n",
    "from statsmodels.stats.multicomp import pairwise_tukeyhsd\n",
    "\n"
   ]
  },
  {
   "cell_type": "markdown",
   "metadata": {},
   "source": [
    "## Statistical Test Functions amd Pipeline"
   ]
  },
  {
   "cell_type": "code",
   "execution_count": 56,
   "metadata": {},
   "outputs": [],
   "source": [
    "def Cohen_d(control, experiment):\n",
    "    # Compute Cohen's d.\n",
    "    # group1: Series or NumPy array\n",
    "    # group2: Series or NumPy array\n",
    "    # returns a floating point number \n",
    "    diff = experiment.mean() - control.mean()\n",
    "\n",
    "    n1, n2 = len(experiment), len(control)\n",
    "    var1 = experiment.var()\n",
    "    var2 = control.var()\n",
    "\n",
    "    # Calculate the pooled threshold as shown earlier\n",
    "    pooled_var = (n1 * var1 + n2 * var2) / (n1 + n2)\n",
    "    \n",
    "    # Calculate Cohen's d statistic\n",
    "    d = diff / np.sqrt(pooled_var)\n",
    "    \n",
    "    return d"
   ]
  },
  {
   "cell_type": "code",
   "execution_count": 54,
   "metadata": {},
   "outputs": [],
   "source": [
    "\n",
    "def hyp_test_mean(control,experiment):\n",
    "# 1. Test variances\n",
    "    w,p_same_var = stats.levene(control,experiment)\n",
    "# 2. Test nromality\n",
    "    w,p_norm_a = stats.normaltest(control)\n",
    "    w,p_norm_b = stats.normaltest(experiment)\n",
    "    \n",
    "# 3. Choose test\n",
    "    norm_pass = ((p_norm_a >= 0.05) and (p_norm_b >= 0.05)) or ( (len(control) > 30) and (len(experiment) > 30) )\n",
    "    var_pass = p_same_var >= 0.05\n",
    "    \n",
    "    t_test_result = stats.ttest_ind(control,experiment)[1]\n",
    "    welch_result = stats.ttest_ind(control,experiment,equal_var=False)[1]\n",
    "    mann_whitney_u = stats.mannwhitneyu(control,experiment)[1]\n",
    "    \n",
    "    \n",
    "    if var_pass and norm_pass:\n",
    "        t_test_notes = \"1 !!Best Test!!\"\n",
    "        welch_notes = \"not used; t-test assumptions met\"\n",
    "        mann_whitney_u_notes = \"not needed; t-test assumptions met\"\n",
    "    elif norm_pass and not var_pass:\n",
    "        welch_notes = \"1 !!Best Test!!\"\n",
    "        t_test_notes = \"not used: assumptions not met\"\n",
    "        mann_whitney_u_notes = \"not needed: Welch's assumptions met\"\n",
    "    else:\n",
    "        welch_notes = \"not used: assumptions not met\"\n",
    "        t_test_notes = \"not used: assumptions not met\"\n",
    "        mann_whitney_u_notes = \"1 !!Best Test!!\"\n",
    "    \n",
    "    test_name = ['t_test','Welch\\'s t-test','Mann Whitney U']\n",
    "    df_dict={\n",
    "        'Difference in means': [0,(np.mean(b) - np.mean(a))],\n",
    "        'Cohen\\'s d': [0,Cohen_d(control,experiment)],\n",
    "        'Sample A normality':[p_norm_a,'0'],\n",
    "        'Samp B normality':[p_norm_b,'0'],\n",
    "        'Variance similarity': [p_same_var,'0'],\n",
    "        't_test':[t_test_result,t_test_notes],\n",
    "        'Welch\\'s t-test' :[welch_result,welch_notes],\n",
    "        'Mann Whitney U':[mann_whitney_u,mann_whitney_u_notes]\n",
    "        \n",
    "    }\n",
    "    \n",
    "    df = pd.DataFrame.from_dict(df_dict,orient = 'index',columns=['p_value','notes'])\n",
    "    df['Null Rejected'] = (df['p_value'] >=0.05)\n",
    "    df.sort_values*\n",
    "    return df\n",
    "        \n",
    "#         1. t-test vs welch-t test\n",
    "#         2. mann whitney u\n",
    "#         3. monte carlo\n",
    "# 4. results in df"
   ]
  },
  {
   "cell_type": "code",
   "execution_count": null,
   "metadata": {},
   "outputs": [],
   "source": []
  },
  {
   "cell_type": "markdown",
   "metadata": {},
   "source": [
    "## Connect to Database"
   ]
  },
  {
   "cell_type": "code",
   "execution_count": 2,
   "metadata": {},
   "outputs": [],
   "source": [
    "conn = sqlite3.connect('Northwind_small.sqlite')\n",
    "cur = conn.cursor()\n",
    "#cur.execute(\"\"\"SELECT * FROM contactInfo;\"\"\")\n",
    "#df = pd.DataFrame(cur.fetchall())"
   ]
  },
  {
   "cell_type": "markdown",
   "metadata": {},
   "source": [
    "<img src='Northwind_ERD_updated.png'>"
   ]
  },
  {
   "cell_type": "markdown",
   "metadata": {},
   "source": [
    "# First Hypothesis: **_Does discount amount have a statistically significant effect on the quantity of a product in an order? If so, at what level(s) of discount?_**"
   ]
  },
  {
   "cell_type": "markdown",
   "metadata": {},
   "source": [
    "## State the Hypotheses"
   ]
  },
  {
   "cell_type": "markdown",
   "metadata": {},
   "source": [
    "### Null Hypthesis:\n",
    "\n",
    "Discounts do not cause people to purchase greater quantities of products"
   ]
  },
  {
   "cell_type": "markdown",
   "metadata": {},
   "source": [
    "## Alternative Hypothesis:\n",
    "\n",
    "People order a product in greater quantities if they are offered a discount"
   ]
  },
  {
   "cell_type": "markdown",
   "metadata": {},
   "source": [
    "## Load relevant data"
   ]
  },
  {
   "cell_type": "markdown",
   "metadata": {},
   "source": [
    "Pull Discount and Quantity data for all orders"
   ]
  },
  {
   "cell_type": "code",
   "execution_count": 3,
   "metadata": {},
   "outputs": [
    {
     "data": {
      "text/html": [
       "<div>\n",
       "<style scoped>\n",
       "    .dataframe tbody tr th:only-of-type {\n",
       "        vertical-align: middle;\n",
       "    }\n",
       "\n",
       "    .dataframe tbody tr th {\n",
       "        vertical-align: top;\n",
       "    }\n",
       "\n",
       "    .dataframe thead th {\n",
       "        text-align: right;\n",
       "    }\n",
       "</style>\n",
       "<table border=\"1\" class=\"dataframe\">\n",
       "  <thead>\n",
       "    <tr style=\"text-align: right;\">\n",
       "      <th></th>\n",
       "      <th>Quantity</th>\n",
       "      <th>Discount</th>\n",
       "    </tr>\n",
       "  </thead>\n",
       "  <tbody>\n",
       "    <tr>\n",
       "      <th>0</th>\n",
       "      <td>12</td>\n",
       "      <td>0.00</td>\n",
       "    </tr>\n",
       "    <tr>\n",
       "      <th>1</th>\n",
       "      <td>10</td>\n",
       "      <td>0.00</td>\n",
       "    </tr>\n",
       "    <tr>\n",
       "      <th>2</th>\n",
       "      <td>5</td>\n",
       "      <td>0.00</td>\n",
       "    </tr>\n",
       "    <tr>\n",
       "      <th>3</th>\n",
       "      <td>9</td>\n",
       "      <td>0.00</td>\n",
       "    </tr>\n",
       "    <tr>\n",
       "      <th>4</th>\n",
       "      <td>40</td>\n",
       "      <td>0.00</td>\n",
       "    </tr>\n",
       "    <tr>\n",
       "      <th>...</th>\n",
       "      <td>...</td>\n",
       "      <td>...</td>\n",
       "    </tr>\n",
       "    <tr>\n",
       "      <th>2150</th>\n",
       "      <td>1</td>\n",
       "      <td>0.05</td>\n",
       "    </tr>\n",
       "    <tr>\n",
       "      <th>2151</th>\n",
       "      <td>2</td>\n",
       "      <td>0.01</td>\n",
       "    </tr>\n",
       "    <tr>\n",
       "      <th>2152</th>\n",
       "      <td>4</td>\n",
       "      <td>0.00</td>\n",
       "    </tr>\n",
       "    <tr>\n",
       "      <th>2153</th>\n",
       "      <td>2</td>\n",
       "      <td>0.00</td>\n",
       "    </tr>\n",
       "    <tr>\n",
       "      <th>2154</th>\n",
       "      <td>2</td>\n",
       "      <td>0.10</td>\n",
       "    </tr>\n",
       "  </tbody>\n",
       "</table>\n",
       "<p>2155 rows × 2 columns</p>\n",
       "</div>"
      ],
      "text/plain": [
       "      Quantity  Discount\n",
       "0           12      0.00\n",
       "1           10      0.00\n",
       "2            5      0.00\n",
       "3            9      0.00\n",
       "4           40      0.00\n",
       "...        ...       ...\n",
       "2150         1      0.05\n",
       "2151         2      0.01\n",
       "2152         4      0.00\n",
       "2153         2      0.00\n",
       "2154         2      0.10\n",
       "\n",
       "[2155 rows x 2 columns]"
      ]
     },
     "metadata": {},
     "output_type": "display_data"
    }
   ],
   "source": [
    "q1= \"\"\"\n",
    "    SELECT Quantity,Discount \n",
    "    FROM OrderDetail \n",
    "    GROUP BY `Id`\n",
    "\"\"\"\n",
    "\n",
    "cursor = cur.execute(q1)\n",
    "names = [description[0] for description in cursor.description]\n",
    "df_all_orders = pd.DataFrame(cursor.fetchall(),columns=names)\n",
    "display(df_all_orders)"
   ]
  },
  {
   "cell_type": "markdown",
   "metadata": {},
   "source": [
    " orders with discounts"
   ]
  },
  {
   "cell_type": "code",
   "execution_count": 4,
   "metadata": {},
   "outputs": [
    {
     "data": {
      "text/html": [
       "<div>\n",
       "<style scoped>\n",
       "    .dataframe tbody tr th:only-of-type {\n",
       "        vertical-align: middle;\n",
       "    }\n",
       "\n",
       "    .dataframe tbody tr th {\n",
       "        vertical-align: top;\n",
       "    }\n",
       "\n",
       "    .dataframe thead th {\n",
       "        text-align: right;\n",
       "    }\n",
       "</style>\n",
       "<table border=\"1\" class=\"dataframe\">\n",
       "  <thead>\n",
       "    <tr style=\"text-align: right;\">\n",
       "      <th></th>\n",
       "      <th>Quantity</th>\n",
       "      <th>Discount</th>\n",
       "    </tr>\n",
       "  </thead>\n",
       "  <tbody>\n",
       "    <tr>\n",
       "      <th>0</th>\n",
       "      <td>12</td>\n",
       "      <td>0.0</td>\n",
       "    </tr>\n",
       "    <tr>\n",
       "      <th>1</th>\n",
       "      <td>10</td>\n",
       "      <td>0.0</td>\n",
       "    </tr>\n",
       "    <tr>\n",
       "      <th>2</th>\n",
       "      <td>5</td>\n",
       "      <td>0.0</td>\n",
       "    </tr>\n",
       "    <tr>\n",
       "      <th>3</th>\n",
       "      <td>9</td>\n",
       "      <td>0.0</td>\n",
       "    </tr>\n",
       "    <tr>\n",
       "      <th>4</th>\n",
       "      <td>40</td>\n",
       "      <td>0.0</td>\n",
       "    </tr>\n",
       "    <tr>\n",
       "      <th>...</th>\n",
       "      <td>...</td>\n",
       "      <td>...</td>\n",
       "    </tr>\n",
       "    <tr>\n",
       "      <th>1312</th>\n",
       "      <td>2</td>\n",
       "      <td>0.0</td>\n",
       "    </tr>\n",
       "    <tr>\n",
       "      <th>1313</th>\n",
       "      <td>2</td>\n",
       "      <td>0.0</td>\n",
       "    </tr>\n",
       "    <tr>\n",
       "      <th>1314</th>\n",
       "      <td>1</td>\n",
       "      <td>0.0</td>\n",
       "    </tr>\n",
       "    <tr>\n",
       "      <th>1315</th>\n",
       "      <td>4</td>\n",
       "      <td>0.0</td>\n",
       "    </tr>\n",
       "    <tr>\n",
       "      <th>1316</th>\n",
       "      <td>2</td>\n",
       "      <td>0.0</td>\n",
       "    </tr>\n",
       "  </tbody>\n",
       "</table>\n",
       "<p>1317 rows × 2 columns</p>\n",
       "</div>"
      ],
      "text/plain": [
       "      Quantity  Discount\n",
       "0           12       0.0\n",
       "1           10       0.0\n",
       "2            5       0.0\n",
       "3            9       0.0\n",
       "4           40       0.0\n",
       "...        ...       ...\n",
       "1312         2       0.0\n",
       "1313         2       0.0\n",
       "1314         1       0.0\n",
       "1315         4       0.0\n",
       "1316         2       0.0\n",
       "\n",
       "[1317 rows x 2 columns]"
      ]
     },
     "metadata": {},
     "output_type": "display_data"
    },
    {
     "data": {
      "image/png": "[encoded data removed]",
      "text/plain": [
       "<Figure size 432x288 with 2 Axes>"
      ]
     },
     "metadata": {
      "needs_background": "light"
     },
     "output_type": "display_data"
    }
   ],
   "source": [
    "q1= \"\"\"\n",
    "    SELECT Quantity,Discount\n",
    "    FROM OrderDetail \n",
    "    WHERE Discount = 0 \n",
    "    GROUP BY `Id` \n",
    "\"\"\"\n",
    "\n",
    "cursor = cur.execute(q1)\n",
    "names = [description[0] for description in cursor.description]\n",
    "df_no_discounts = pd.DataFrame(cursor.fetchall(),columns=names)\n",
    "\n",
    "display(df_no_discounts)\n",
    "df_no_discounts.describe()\n",
    "df_no_discounts.hist()\n",
    "plt.show()\n"
   ]
  },
  {
   "cell_type": "markdown",
   "metadata": {},
   "source": [
    "Select Orders without any discounts"
   ]
  },
  {
   "cell_type": "code",
   "execution_count": 5,
   "metadata": {},
   "outputs": [
    {
     "data": {
      "text/html": [
       "<div>\n",
       "<style scoped>\n",
       "    .dataframe tbody tr th:only-of-type {\n",
       "        vertical-align: middle;\n",
       "    }\n",
       "\n",
       "    .dataframe tbody tr th {\n",
       "        vertical-align: top;\n",
       "    }\n",
       "\n",
       "    .dataframe thead th {\n",
       "        text-align: right;\n",
       "    }\n",
       "</style>\n",
       "<table border=\"1\" class=\"dataframe\">\n",
       "  <thead>\n",
       "    <tr style=\"text-align: right;\">\n",
       "      <th></th>\n",
       "      <th>Quantity</th>\n",
       "    </tr>\n",
       "  </thead>\n",
       "  <tbody>\n",
       "    <tr>\n",
       "      <th>0</th>\n",
       "      <td>35</td>\n",
       "    </tr>\n",
       "    <tr>\n",
       "      <th>1</th>\n",
       "      <td>15</td>\n",
       "    </tr>\n",
       "    <tr>\n",
       "      <th>2</th>\n",
       "      <td>6</td>\n",
       "    </tr>\n",
       "    <tr>\n",
       "      <th>3</th>\n",
       "      <td>15</td>\n",
       "    </tr>\n",
       "    <tr>\n",
       "      <th>4</th>\n",
       "      <td>40</td>\n",
       "    </tr>\n",
       "    <tr>\n",
       "      <th>...</th>\n",
       "      <td>...</td>\n",
       "    </tr>\n",
       "    <tr>\n",
       "      <th>833</th>\n",
       "      <td>2</td>\n",
       "    </tr>\n",
       "    <tr>\n",
       "      <th>834</th>\n",
       "      <td>2</td>\n",
       "    </tr>\n",
       "    <tr>\n",
       "      <th>835</th>\n",
       "      <td>1</td>\n",
       "    </tr>\n",
       "    <tr>\n",
       "      <th>836</th>\n",
       "      <td>2</td>\n",
       "    </tr>\n",
       "    <tr>\n",
       "      <th>837</th>\n",
       "      <td>2</td>\n",
       "    </tr>\n",
       "  </tbody>\n",
       "</table>\n",
       "<p>838 rows × 1 columns</p>\n",
       "</div>"
      ],
      "text/plain": [
       "     Quantity\n",
       "0          35\n",
       "1          15\n",
       "2           6\n",
       "3          15\n",
       "4          40\n",
       "..        ...\n",
       "833         2\n",
       "834         2\n",
       "835         1\n",
       "836         2\n",
       "837         2\n",
       "\n",
       "[838 rows x 1 columns]"
      ]
     },
     "metadata": {},
     "output_type": "display_data"
    },
    {
     "data": {
      "image/png": "[encoded data removed]",
      "text/plain": [
       "<Figure size 432x288 with 1 Axes>"
      ]
     },
     "metadata": {
      "needs_background": "light"
     },
     "output_type": "display_data"
    }
   ],
   "source": [
    "q2= \"\"\"\n",
    "    SELECT Quantity\n",
    "    FROM OrderDetail \n",
    "    WHERE Discount != 0 \n",
    "    GROUP BY `Id` \n",
    "\"\"\"\n",
    "\n",
    "cursor = cur.execute(q2)\n",
    "names = [description[0] for description in cursor.description]\n",
    "\n",
    "df_with_discounts = pd.DataFrame(cursor.fetchall(),columns=names)\n",
    "\n",
    "display(df_with_discounts)\n",
    "df_with_discounts.describe()\n",
    "df_with_discounts.hist()\n",
    "plt.show()\n"
   ]
  },
  {
   "cell_type": "markdown",
   "metadata": {},
   "source": [
    "## Parametric testing of hypotheses"
   ]
  },
  {
   "cell_type": "markdown",
   "metadata": {},
   "source": [
    "## Non-parametric test"
   ]
  },
  {
   "cell_type": "code",
   "execution_count": 55,
   "metadata": {},
   "outputs": [
    {
     "data": {
      "text/html": [
       "<div>\n",
       "<style scoped>\n",
       "    .dataframe tbody tr th:only-of-type {\n",
       "        vertical-align: middle;\n",
       "    }\n",
       "\n",
       "    .dataframe tbody tr th {\n",
       "        vertical-align: top;\n",
       "    }\n",
       "\n",
       "    .dataframe thead th {\n",
       "        text-align: right;\n",
       "    }\n",
       "</style>\n",
       "<table border=\"1\" class=\"dataframe\">\n",
       "  <thead>\n",
       "    <tr style=\"text-align: right;\">\n",
       "      <th></th>\n",
       "      <th>p_value</th>\n",
       "      <th>notes</th>\n",
       "      <th>Null Rejected</th>\n",
       "    </tr>\n",
       "  </thead>\n",
       "  <tbody>\n",
       "    <tr>\n",
       "      <th>Difference in means</th>\n",
       "      <td>0.000000e+00</td>\n",
       "      <td>5.39452</td>\n",
       "      <td>False</td>\n",
       "    </tr>\n",
       "    <tr>\n",
       "      <th>Cohen's d</th>\n",
       "      <td>0.000000e+00</td>\n",
       "      <td>0.286272</td>\n",
       "      <td>False</td>\n",
       "    </tr>\n",
       "    <tr>\n",
       "      <th>Sample A normality</th>\n",
       "      <td>5.579637e-119</td>\n",
       "      <td>0</td>\n",
       "      <td>False</td>\n",
       "    </tr>\n",
       "    <tr>\n",
       "      <th>Samp B normality</th>\n",
       "      <td>1.621488e-57</td>\n",
       "      <td>0</td>\n",
       "      <td>False</td>\n",
       "    </tr>\n",
       "    <tr>\n",
       "      <th>Variance similarity</th>\n",
       "      <td>1.209138e-04</td>\n",
       "      <td>0</td>\n",
       "      <td>False</td>\n",
       "    </tr>\n",
       "    <tr>\n",
       "      <th>t_test</th>\n",
       "      <td>1.144092e-10</td>\n",
       "      <td>not used: assumptions not met</td>\n",
       "      <td>False</td>\n",
       "    </tr>\n",
       "    <tr>\n",
       "      <th>Welch's t-test</th>\n",
       "      <td>5.656414e-10</td>\n",
       "      <td>!!Best Test!!</td>\n",
       "      <td>False</td>\n",
       "    </tr>\n",
       "    <tr>\n",
       "      <th>Mann Whitney U</th>\n",
       "      <td>6.629382e-11</td>\n",
       "      <td>not needed: Welch's assumptions met</td>\n",
       "      <td>False</td>\n",
       "    </tr>\n",
       "  </tbody>\n",
       "</table>\n",
       "</div>"
      ],
      "text/plain": [
       "                           p_value                                notes  \\\n",
       "Difference in means   0.000000e+00                              5.39452   \n",
       "Cohen's d             0.000000e+00                             0.286272   \n",
       "Sample A normality   5.579637e-119                                    0   \n",
       "Samp B normality      1.621488e-57                                    0   \n",
       "Variance similarity   1.209138e-04                                    0   \n",
       "t_test                1.144092e-10        not used: assumptions not met   \n",
       "Welch's t-test        5.656414e-10                        !!Best Test!!   \n",
       "Mann Whitney U        6.629382e-11  not needed: Welch's assumptions met   \n",
       "\n",
       "                     Null Rejected  \n",
       "Difference in means          False  \n",
       "Cohen's d                    False  \n",
       "Sample A normality           False  \n",
       "Samp B normality             False  \n",
       "Variance similarity          False  \n",
       "t_test                       False  \n",
       "Welch's t-test               False  \n",
       "Mann Whitney U               False  "
      ]
     },
     "metadata": {},
     "output_type": "display_data"
    }
   ],
   "source": [
    "df2 = hyp_test_mean(df_no_discounts['Quantity'],df_with_discounts['Quantity'])\n",
    "display(df2)"
   ]
  },
  {
   "cell_type": "code",
   "execution_count": 35,
   "metadata": {},
   "outputs": [
    {
     "name": "stdout",
     "output_type": "stream",
     "text": [
      "0.2862724481729283\n"
     ]
    }
   ],
   "source": [
    "d = Cohen_d(df_with_discounts['Quantity'],df_no_discounts['Quantity'])\n",
    "print(d)"
   ]
  },
  {
   "cell_type": "markdown",
   "metadata": {},
   "source": [
    "## Permutation/Monte Carlo test"
   ]
  },
  {
   "cell_type": "code",
   "execution_count": 9,
   "metadata": {},
   "outputs": [
    {
     "data": {
      "text/plain": [
       "0       35\n",
       "1       15\n",
       "2        6\n",
       "3       15\n",
       "4       40\n",
       "        ..\n",
       "2150     2\n",
       "2151     2\n",
       "2152     1\n",
       "2153     4\n",
       "2154     2\n",
       "Name: Quantity, Length: 2155, dtype: int64"
      ]
     },
     "metadata": {},
     "output_type": "display_data"
    }
   ],
   "source": [
    "merged_samples = df_with_discounts['Quantity'].append(df_no_discounts['Quantity'],ignore_index=True)\n",
    "display(merged_samples)"
   ]
  },
  {
   "cell_type": "code",
   "execution_count": 10,
   "metadata": {},
   "outputs": [],
   "source": [
    "def monte_carlo(a,b,size):\n",
    "    diff_mu_a_b = np.mean(a) - np.mean(b)\n",
    "    num = 0\n",
    "    denom = 0\n",
    "    union = a.append(b,ignore_index=True)\n",
    "       \n",
    "    \n",
    "    for i in range(size):\n",
    "       \n",
    "        # Generate ai\n",
    "        ai = union.sample(len(a))\n",
    "        \n",
    "        # Generate its compliment as bi\n",
    "        bi = union.drop(ai.index)\n",
    "                 \n",
    "        diff_mu_ai_bi = np.mean(ai) - np.mean(bi)\n",
    "        \n",
    "        if diff_mu_ai_bi >= diff_mu_a_b:\n",
    "            num +=1\n",
    "            \n",
    "        denom += 1\n",
    "        \n",
    "    p_val = num/denom\n",
    "    return p_val\n",
    "    \n",
    "      "
   ]
  },
  {
   "cell_type": "code",
   "execution_count": 31,
   "metadata": {
    "scrolled": false
   },
   "outputs": [
    {
     "name": "stdout",
     "output_type": "stream",
     "text": [
      "0.497\n"
     ]
    }
   ],
   "source": [
    "p = monte_carlo(df_with_discounts['Quantity'],df_with_discounts['Quantity'],10000)\n",
    "\n",
    "print(p)"
   ]
  },
  {
   "cell_type": "code",
   "execution_count": 12,
   "metadata": {},
   "outputs": [
    {
     "name": "stdout",
     "output_type": "stream",
     "text": [
      "Ttest_indResult(statistic=6.478563196294901, pvalue=1.1440924523215966e-10)\n"
     ]
    }
   ],
   "source": [
    "t_p = stats.ttest_ind(df_with_discounts['Quantity'],df_no_discounts['Quantity'])\n",
    "print(t_p)"
   ]
  },
  {
   "cell_type": "markdown",
   "metadata": {},
   "source": [
    "# Exploration"
   ]
  },
  {
   "cell_type": "code",
   "execution_count": null,
   "metadata": {},
   "outputs": [],
   "source": [
    "q3= \"\"\"\n",
    "    SELECT DISTINCT Discount, AVG(Quantity),COUNT(Discount) AS \"TimesApplied\"\n",
    "    FROM OrderDetail \n",
    "     \n",
    "    GROUP BY `Discount`\n",
    "    HAVING TimesApplied > 20\n",
    "    ORDER BY Discount\n",
    "\"\"\"\n",
    "\n",
    "cursor = cur.execute(q3)\n",
    "names = [description[0] for description in cursor.description]\n",
    "df3 = pd.DataFrame(cursor.fetchall(),columns=names)\n",
    "display(df3)"
   ]
  },
  {
   "cell_type": "code",
   "execution_count": null,
   "metadata": {},
   "outputs": [],
   "source": [
    "df3.plot(x = \"Discount\", y = 'AVG(Quantity)',kind = 'bar')"
   ]
  },
  {
   "cell_type": "code",
   "execution_count": null,
   "metadata": {},
   "outputs": [],
   "source": [
    "q3= \"\"\"\n",
    "    SELECT \n",
    "        ProductName,\n",
    "        Quantity,\n",
    "        Discount,\n",
    "        AVG(OrderDetail.UnitPrice) AS AvgSalePrice, \n",
    "        Product.UnitPrice AS BuyPrice,\n",
    "        SUM(Quantity) as TotalSold,\n",
    "        SUM(OrderDetail.UnitPrice * Quantity * (1 - Discount))\n",
    "    FROM OrderDetail \n",
    "    JOIN Product ON OrderDetail.ProductId = Product.Id\n",
    "    GROUP BY ProductName\n",
    "    ORDER BY SUM(Quantity) DESC\n",
    "    LIMIT 20\n",
    "    \n",
    "\"\"\"\n",
    "\n",
    "cursor = cur.execute(q3)\n",
    "names = [description[0] for description in cursor.description]\n",
    "df3 = pd.DataFrame(cursor.fetchall(),columns=names)\n",
    "display(df3)"
   ]
  },
  {
   "cell_type": "code",
   "execution_count": null,
   "metadata": {},
   "outputs": [],
   "source": [
    "df3.plot(x='ProductName',y='SUM(Quantity)',kind='bar')"
   ]
  },
  {
   "cell_type": "code",
   "execution_count": null,
   "metadata": {},
   "outputs": [],
   "source": [
    "q3= \"\"\"\n",
    "    SELECT \n",
    "        ProductName,\n",
    "        Quantity,\n",
    "        Discount,        \n",
    "        OrderDetail.UnitPrice AS PriceCharged,        \n",
    "        (OrderDetail.UnitPrice * Quantity) * (1 - Discount) AS TotalPaid\n",
    "    FROM OrderDetail \n",
    "    JOIN Product ON OrderDetail.ProductId = Product.Id\n",
    "    ORDER BY TotalPaid DESC\n",
    "    \n",
    "    \n",
    "\"\"\"\n",
    "\n",
    "cursor = cur.execute(q3)\n",
    "names = [description[0] for description in cursor.description]\n",
    "df3 = pd.DataFrame(cursor.fetchall(),columns=names)\n",
    "display(df3)"
   ]
  },
  {
   "cell_type": "code",
   "execution_count": null,
   "metadata": {},
   "outputs": [],
   "source": [
    "q3= \"\"\"\n",
    "    SELECT \n",
    "        ProductName,\n",
    "        Quantity,\n",
    "        Discount,        \n",
    "        Product.UnitPrice AS PriceCharged,        \n",
    "        (OrderDetail.UnitPrice * Quantity) * (1 - Discount) AS TotalPaid\n",
    "    FROM OrderDetail \n",
    "    JOIN Product ON OrderDetail.ProductId = Product.Id\n",
    "    ORDER BY TotalPaid DESC\n",
    "    \n",
    "    \n",
    "\"\"\"\n",
    "\n",
    "cursor = cur.execute(q3)\n",
    "names = [description[0] for description in cursor.description]\n",
    "df3 = pd.DataFrame(cursor.fetchall(),columns=names)\n",
    "display(df3)"
   ]
  },
  {
   "cell_type": "code",
   "execution_count": null,
   "metadata": {},
   "outputs": [],
   "source": [
    "q3= \"\"\"\n",
    "    SELECT \n",
    "        O.EmployeeID,\n",
    "        E.LastName,\n",
    "        E.Firstname,\n",
    "        AVG(OD.Discount) AS AvgDiscount,\n",
    "        COUNT(OrderID)\n",
    "    FROM OrderDetail as OD\n",
    "    JOIN `Order` AS O ON OD.OrderID = O.Id \n",
    "    JOIN Employee AS E on E.Id = O.EmployeeId\n",
    "    GROUP BY O.EmployeeID\n",
    "    ORDER BY EmployeeId ASC\n",
    "    \n",
    "    \n",
    "\"\"\"\n",
    "\n",
    "cursor = cur.execute(q3)\n",
    "names = [description[0] for description in cursor.description]\n",
    "df3 = pd.DataFrame(cursor.fetchall(),columns=names)\n",
    "display(df3)"
   ]
  },
  {
   "cell_type": "markdown",
   "metadata": {},
   "source": [
    "What is the most profitable product?\n"
   ]
  }
 ],
 "metadata": {
  "kernelspec": {
   "display_name": "Python 3",
   "language": "python",
   "name": "python3"
  },
  "language_info": {
   "codemirror_mode": {
    "name": "ipython",
    "version": 3
   },
   "file_extension": ".py",
   "mimetype": "text/x-python",
   "name": "python",
   "nbconvert_exporter": "python",
   "pygments_lexer": "ipython3",
   "version": "3.7.5"
  },
  "toc": {
   "base_numbering": 1,
   "nav_menu": {
    "height": "446px",
    "width": "301px"
   },
   "number_sections": true,
   "sideBar": true,
   "skip_h1_title": false,
   "title_cell": "Table of Contents",
   "title_sidebar": "Contents",
   "toc_cell": false,
   "toc_position": {
    "height": "calc(100% - 180px)",
    "left": "10px",
    "top": "150px",
    "width": "384px"
   },
   "toc_section_display": true,
   "toc_window_display": true
  },
  "varInspector": {
   "cols": {
    "lenName": 16,
    "lenType": 16,
    "lenVar": 40
   },
   "kernels_config": {
    "python": {
     "delete_cmd_postfix": "",
     "delete_cmd_prefix": "del ",
     "library": "var_list.py",
     "varRefreshCmd": "print(var_dic_list())"
    },
    "r": {
     "delete_cmd_postfix": ") ",
     "delete_cmd_prefix": "rm(",
     "library": "var_list.r",
     "varRefreshCmd": "cat(var_dic_list()) "
    }
   },
   "position": {
    "height": "618px",
    "left": "1550px",
    "right": "20px",
    "top": "120px",
    "width": "350px"
   },
   "types_to_exclude": [
    "module",
    "function",
    "builtin_function_or_method",
    "instance",
    "_Feature"
   ],
   "window_display": false
  }
 },
 "nbformat": 4,
 "nbformat_minor": 2
}
