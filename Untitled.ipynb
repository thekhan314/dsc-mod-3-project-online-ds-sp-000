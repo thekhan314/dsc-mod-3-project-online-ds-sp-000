{
 "cells": [
  {
   "cell_type": "markdown",
   "metadata": {},
   "source": [
    "# Exploration\n"
   ]
  },
  {
   "cell_type": "code",
   "execution_count": null,
   "metadata": {},
   "outputs": [],
   "source": [
    "## \n",
    "\n",
    "q10= \"\"\"\n",
    "    SELECT \n",
    "        C.Region as CustRegion,\n",
    "        O.Id AS OrderID,\n",
    "        OD.Quantity as Quantity,\n",
    "        (OD.UnitPrice * OD.Quantity) * (1 - OD.Discount) AS TotalPaid,\n",
    "        \n",
    "        \n",
    "    FROM `Order` AS O \n",
    "    JOIN OrderDetail As OD ON OD.OrderId = O.Id\n",
    "    JOIN Customer AS C ON O.CustomerId = C.Id\n",
    "\n",
    "        \n",
    "\"\"\"\n",
    "\n",
    "cursor = cur.execute(q10)\n",
    "names = [description[0] for description in cursor.description]\n",
    "df_empterr = pd.DataFrame(cursor.fetchall(),columns=names)\n",
    "display(df_empterr)"
   ]
  },
  {
   "cell_type": "code",
   "execution_count": null,
   "metadata": {},
   "outputs": [],
   "source": [
    "q10= \"\"\"\n",
    "    SELECT \n",
    "    E.FirstName || E.LastName AS EmpName,\n",
    "    E.Region AS EmpRegion,\n",
    "    O.Id,\n",
    "    O.ShipRegion,\n",
    "    C.CompanyName,\n",
    "    C.Region as CustRegion,\n",
    "    C.City As CustCity\n",
    "    \n",
    "    FROM `Order` AS O \n",
    "    JOIN Employee AS E on E.Id = O.EmployeeId\n",
    "    JOIN Customer AS C ON O.CustomerId = C.Id\n",
    "   \n",
    "        \n",
    "\"\"\"\n",
    "\n",
    "cursor = cur.execute(q10)\n",
    "names = [description[0] for description in cursor.description]\n",
    "df_empterr = pd.DataFrame(cursor.fetchall(),columns=names)\n",
    "display(df_empterr)"
   ]
  },
  {
   "cell_type": "code",
   "execution_count": null,
   "metadata": {},
   "outputs": [],
   "source": [
    "# Highest revenue items\n",
    "\n",
    "q3= \"\"\"\n",
    "    SELECT \n",
    "        ProductName,\n",
    "        Quantity,\n",
    "        Discount,        \n",
    "        Product.UnitPrice AS PriceCharged,        \n",
    "        (OrderDetail.UnitPrice * Quantity) * (1 - Discount) AS TotalPaid\n",
    "    FROM OrderDetail \n",
    "    JOIN Product ON OrderDetail.ProductId = Product.Id\n",
    "    JOIN \n",
    "    ORDER BY TotalPaid DESC\n",
    "    \n",
    "    \n",
    "\"\"\"\n",
    "\n",
    "cursor = cur.execute(q3)\n",
    "names = [description[0] for description in cursor.description]\n",
    "df3 = pd.DataFrame(cursor.fetchall(),columns=names)\n",
    "display(df3)"
   ]
  },
  {
   "cell_type": "code",
   "execution_count": 1,
   "metadata": {},
   "outputs": [
    {
     "ename": "NameError",
     "evalue": "name 'df_master' is not defined",
     "output_type": "error",
     "traceback": [
      "\u001b[0;31m---------------------------------------------------------------------------\u001b[0m",
      "\u001b[0;31mNameError\u001b[0m                                 Traceback (most recent call last)",
      "\u001b[0;32m<ipython-input-1-2c11864f0ec5>\u001b[0m in \u001b[0;36m<module>\u001b[0;34m\u001b[0m\n\u001b[1;32m      1\u001b[0m \u001b[0;31m# Biggest customers\u001b[0m\u001b[0;34m\u001b[0m\u001b[0;34m\u001b[0m\u001b[0;34m\u001b[0m\u001b[0m\n\u001b[1;32m      2\u001b[0m \u001b[0;34m\u001b[0m\u001b[0m\n\u001b[0;32m----> 3\u001b[0;31m \u001b[0mdf_big_customers\u001b[0m \u001b[0;34m=\u001b[0m \u001b[0mdf_master\u001b[0m\u001b[0;34m.\u001b[0m\u001b[0mgroupby\u001b[0m\u001b[0;34m(\u001b[0m\u001b[0;34m'CompanyName'\u001b[0m\u001b[0;34m)\u001b[0m\u001b[0;34m.\u001b[0m\u001b[0magg\u001b[0m\u001b[0;34m(\u001b[0m\u001b[0;34m{\u001b[0m\u001b[0;34m'TotalPaid'\u001b[0m\u001b[0;34m:\u001b[0m\u001b[0;34m'sum'\u001b[0m\u001b[0;34m,\u001b[0m\u001b[0;34m'DiscAmount'\u001b[0m\u001b[0;34m:\u001b[0m\u001b[0;34m'sum'\u001b[0m\u001b[0;34m}\u001b[0m\u001b[0;34m)\u001b[0m\u001b[0;34m.\u001b[0m\u001b[0msort_values\u001b[0m\u001b[0;34m(\u001b[0m\u001b[0mby\u001b[0m\u001b[0;34m=\u001b[0m\u001b[0;34m'TotalPaid'\u001b[0m\u001b[0;34m,\u001b[0m\u001b[0mascending\u001b[0m\u001b[0;34m=\u001b[0m\u001b[0;32mFalse\u001b[0m\u001b[0;34m)\u001b[0m\u001b[0;34m\u001b[0m\u001b[0;34m\u001b[0m\u001b[0m\n\u001b[0m\u001b[1;32m      4\u001b[0m \u001b[0;34m\u001b[0m\u001b[0m\n\u001b[1;32m      5\u001b[0m \u001b[0mdisplay\u001b[0m\u001b[0;34m(\u001b[0m\u001b[0mdf_big_customers\u001b[0m\u001b[0;34m)\u001b[0m\u001b[0;34m\u001b[0m\u001b[0;34m\u001b[0m\u001b[0m\n",
      "\u001b[0;31mNameError\u001b[0m: name 'df_master' is not defined"
     ]
    }
   ],
   "source": [
    "# Biggest customers\n",
    "\n",
    "df_big_customers = df_master.groupby('CompanyName').agg({'TotalPaid':'sum','DiscAmount':'sum'}).sort_values(by='TotalPaid',ascending=False)\n",
    "\n",
    "display(df_big_customers)\n",
    "\n",
    "df_big_customers.plot(kind='barh',figsize=(10,20))"
   ]
  },
  {
   "cell_type": "code",
   "execution_count": null,
   "metadata": {},
   "outputs": [],
   "source": []
  }
 ],
 "metadata": {
  "kernelspec": {
   "display_name": "Python 3",
   "language": "python",
   "name": "python3"
  },
  "language_info": {
   "codemirror_mode": {
    "name": "ipython",
    "version": 3
   },
   "file_extension": ".py",
   "mimetype": "text/x-python",
   "name": "python",
   "nbconvert_exporter": "python",
   "pygments_lexer": "ipython3",
   "version": "3.7.5"
  },
  "toc": {
   "base_numbering": 1,
   "nav_menu": {},
   "number_sections": true,
   "sideBar": true,
   "skip_h1_title": false,
   "title_cell": "Table of Contents",
   "title_sidebar": "Contents",
   "toc_cell": false,
   "toc_position": {},
   "toc_section_display": true,
   "toc_window_display": false
  },
  "varInspector": {
   "cols": {
    "lenName": 16,
    "lenType": 16,
    "lenVar": 40
   },
   "kernels_config": {
    "python": {
     "delete_cmd_postfix": "",
     "delete_cmd_prefix": "del ",
     "library": "var_list.py",
     "varRefreshCmd": "print(var_dic_list())"
    },
    "r": {
     "delete_cmd_postfix": ") ",
     "delete_cmd_prefix": "rm(",
     "library": "var_list.r",
     "varRefreshCmd": "cat(var_dic_list()) "
    }
   },
   "types_to_exclude": [
    "module",
    "function",
    "builtin_function_or_method",
    "instance",
    "_Feature"
   ],
   "window_display": false
  }
 },
 "nbformat": 4,
 "nbformat_minor": 2
}
